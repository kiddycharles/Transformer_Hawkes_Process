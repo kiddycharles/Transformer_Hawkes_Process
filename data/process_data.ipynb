{
 "cells": [
  {
   "cell_type": "code",
   "execution_count": 1,
   "id": "initial_id",
   "metadata": {
    "collapsed": true,
    "ExecuteTime": {
     "end_time": "2024-04-03T10:52:43.051589Z",
     "start_time": "2024-04-03T10:52:42.498828Z"
    }
   },
   "outputs": [],
   "source": [
    "import pandas as pd\n",
    "\n",
    "def calculate_time_since_start(df):\n",
    "    # Assuming 'time' column is in datetime format\n",
    "    start_time = df['time'].iloc[0]\n",
    "    df['time_since_start'] = (df['time'] - start_time).dt.total_seconds() * 1000\n",
    "    \n",
    "\n",
    "def split_range_into_categories(min_val, max_val, num_categories=10):\n",
    "    # Calculate the range\n",
    "    range_size = max_val - min_val\n",
    "    \n",
    "    # Calculate the size of each category\n",
    "    category_size = range_size / num_categories\n",
    "    \n",
    "    # Initialize a list to store the category boundaries\n",
    "    categories = []\n",
    "    \n",
    "    # Iterate to determine the boundaries of each category\n",
    "    for i in range(num_categories):\n",
    "        category_min = min_val + i * category_size\n",
    "        category_max = min_val + (i + 1) * category_size\n",
    "        categories.append((category_min, category_max))\n",
    "    \n",
    "    # Ensure that the last category ends exactly at max_val\n",
    "    categories[-1] = (categories[-1][0], max_val)\n",
    "\n",
    "    return categories\n",
    "    \n",
    "\n",
    "def find_category_index(value, categories):\n",
    "    for i, (category_min, category_max) in enumerate(categories):\n",
    "        if category_min <= value <= category_max:\n",
    "            return i\n",
    "    return None  # If value is not within any category\n",
    "\n",
    "\n",
    "def calculate_time_since_last_event(df):\n",
    "    # Initialize variables to store last event time and mark\n",
    "    last_event_time = None\n",
    "    last_event_mark = None\n",
    "    \n",
    "    min_percentage_change = min(df['pctc'])\n",
    "    max_percentage_change = max(df['pctc'])\n",
    "    \n",
    "    categories = split_range_into_categories(min_percentage_change, max_percentage_change)\n",
    "    \n",
    "    \n",
    "    # Iterate through each row\n",
    "    time_since_last_event = []\n",
    "    for _, row in df.iterrows():\n",
    "        # Check if the mark has changed since the last event\n",
    "        # if row['close'] > row['open']:  # Assuming 1 indicates close price higher than open price\n",
    "        #     mark = 1\n",
    "        # else:\n",
    "        #     mark = 0\n",
    "        mark = find_category_index(row['pctc'], categories)\n",
    "\n",
    "        # If it's the first event or the mark has changed, update the last event time and mark\n",
    "        if last_event_time is None or mark != last_event_mark:\n",
    "            last_event_time = row['time']\n",
    "            last_event_mark = mark\n",
    "            time_since_last_event.append(0)\n",
    "        else:\n",
    "            # Calculate the time difference since the last event with the same mark\n",
    "            time_diff = (row['time'] - last_event_time).total_seconds() * 1000\n",
    "            time_since_last_event.append(time_diff)\n",
    "\n",
    "    # Add the 'time_since_last_event' column to the DataFrame\n",
    "    df['time_since_last_event'] = time_since_last_event\n"
   ]
  },
  {
   "cell_type": "code",
   "outputs": [
    {
     "data": {
      "text/plain": "                       time    open    high     low   close   Volume  \\\n0 2019-05-01 13:30:00+00:00  182.89  184.50  181.71  182.08  87009.0   \n1 2019-05-01 14:30:00+00:00  182.25  183.31  181.39  181.48  32466.0   \n2 2019-05-01 15:30:00+00:00  181.28  183.50  181.06  183.02  41981.0   \n3 2019-05-01 16:30:00+00:00  182.94  183.11  182.10  182.86  24737.0   \n4 2019-05-01 17:30:00+00:00  182.88  184.77  182.77  184.71  33681.0   \n\n   Volume MA      pctc  \n0   58317.80  0.000000  \n1   54655.85 -0.003295  \n2   53202.35  0.008486  \n3   51067.20 -0.000874  \n4   49363.50  0.010117  ",
      "text/html": "<div>\n<style scoped>\n    .dataframe tbody tr th:only-of-type {\n        vertical-align: middle;\n    }\n\n    .dataframe tbody tr th {\n        vertical-align: top;\n    }\n\n    .dataframe thead th {\n        text-align: right;\n    }\n</style>\n<table border=\"1\" class=\"dataframe\">\n  <thead>\n    <tr style=\"text-align: right;\">\n      <th></th>\n      <th>time</th>\n      <th>open</th>\n      <th>high</th>\n      <th>low</th>\n      <th>close</th>\n      <th>Volume</th>\n      <th>Volume MA</th>\n      <th>pctc</th>\n    </tr>\n  </thead>\n  <tbody>\n    <tr>\n      <th>0</th>\n      <td>2019-05-01 13:30:00+00:00</td>\n      <td>182.89</td>\n      <td>184.50</td>\n      <td>181.71</td>\n      <td>182.08</td>\n      <td>87009.0</td>\n      <td>58317.80</td>\n      <td>0.000000</td>\n    </tr>\n    <tr>\n      <th>1</th>\n      <td>2019-05-01 14:30:00+00:00</td>\n      <td>182.25</td>\n      <td>183.31</td>\n      <td>181.39</td>\n      <td>181.48</td>\n      <td>32466.0</td>\n      <td>54655.85</td>\n      <td>-0.003295</td>\n    </tr>\n    <tr>\n      <th>2</th>\n      <td>2019-05-01 15:30:00+00:00</td>\n      <td>181.28</td>\n      <td>183.50</td>\n      <td>181.06</td>\n      <td>183.02</td>\n      <td>41981.0</td>\n      <td>53202.35</td>\n      <td>0.008486</td>\n    </tr>\n    <tr>\n      <th>3</th>\n      <td>2019-05-01 16:30:00+00:00</td>\n      <td>182.94</td>\n      <td>183.11</td>\n      <td>182.10</td>\n      <td>182.86</td>\n      <td>24737.0</td>\n      <td>51067.20</td>\n      <td>-0.000874</td>\n    </tr>\n    <tr>\n      <th>4</th>\n      <td>2019-05-01 17:30:00+00:00</td>\n      <td>182.88</td>\n      <td>184.77</td>\n      <td>182.77</td>\n      <td>184.71</td>\n      <td>33681.0</td>\n      <td>49363.50</td>\n      <td>0.010117</td>\n    </tr>\n  </tbody>\n</table>\n</div>"
     },
     "execution_count": 17,
     "metadata": {},
     "output_type": "execute_result"
    }
   ],
   "source": [
    "df = pd.read_csv('NVDA.csv')\n",
    "df['time'] = pd.to_datetime(df['time'])\n",
    "df['pctc'] = df['close'].pct_change()\n",
    "df = df.fillna(0)\n",
    "df.head()"
   ],
   "metadata": {
    "collapsed": false,
    "ExecuteTime": {
     "end_time": "2024-04-03T11:03:33.198718Z",
     "start_time": "2024-04-03T11:03:33.134202Z"
    }
   },
   "id": "c92b9046517e4a7f",
   "execution_count": 17
  },
  {
   "cell_type": "code",
   "outputs": [],
   "source": [
    "# Marking events as 1 if close price is higher than open price, else 0\n",
    "min_percentage_change = min(df['pctc'])\n",
    "max_percentage_change = max(df['pctc'])\n",
    "categories = split_range_into_categories(min_percentage_change, max_percentage_change)\n",
    "df['mark'] = df['pctc'].apply(lambda x: find_category_index(x, categories))"
   ],
   "metadata": {
    "collapsed": false,
    "ExecuteTime": {
     "end_time": "2024-04-03T11:03:34.661701Z",
     "start_time": "2024-04-03T11:03:34.624739Z"
    }
   },
   "id": "12c391ac796a8a78",
   "execution_count": 18
  },
  {
   "cell_type": "code",
   "outputs": [
    {
     "data": {
      "text/plain": "                          time     open    high     low   close   Volume  \\\n0    2019-05-01 13:30:00+00:00  182.890  184.50  181.71  182.08  87009.0   \n1    2019-05-01 14:30:00+00:00  182.250  183.31  181.39  181.48  32466.0   \n2    2019-05-01 15:30:00+00:00  181.280  183.50  181.06  183.02  41981.0   \n3    2019-05-01 16:30:00+00:00  182.940  183.11  182.10  182.86  24737.0   \n4    2019-05-01 17:30:00+00:00  182.880  184.77  182.77  184.71  33681.0   \n...                        ...      ...     ...     ...     ...      ...   \n3630 2021-05-24 15:30:00+00:00  625.290  626.64  623.82  625.50  11932.0   \n3631 2021-05-24 16:30:00+00:00  626.195  627.67  625.04  627.67  11776.0   \n3632 2021-05-24 17:30:00+00:00  627.620  629.64  627.42  628.35  20193.0   \n3633 2021-05-24 18:30:00+00:00  628.860  629.51  626.32  626.48   9739.0   \n3634 2021-05-24 19:30:00+00:00  626.210  627.28  623.88  624.48  18210.0   \n\n      Volume MA      pctc  mark  \n0      58317.80  0.000000     4  \n1      54655.85 -0.003295     4  \n2      53202.35  0.008486     4  \n3      51067.20 -0.000874     4  \n4      49363.50  0.010117     4  \n...         ...       ...   ...  \n3630   40323.50  0.001120     4  \n3631   40224.95  0.003469     4  \n3632   40390.30  0.001083     4  \n3633   39795.35 -0.002976     4  \n3634   36651.50 -0.003192     4  \n\n[3635 rows x 9 columns]",
      "text/html": "<div>\n<style scoped>\n    .dataframe tbody tr th:only-of-type {\n        vertical-align: middle;\n    }\n\n    .dataframe tbody tr th {\n        vertical-align: top;\n    }\n\n    .dataframe thead th {\n        text-align: right;\n    }\n</style>\n<table border=\"1\" class=\"dataframe\">\n  <thead>\n    <tr style=\"text-align: right;\">\n      <th></th>\n      <th>time</th>\n      <th>open</th>\n      <th>high</th>\n      <th>low</th>\n      <th>close</th>\n      <th>Volume</th>\n      <th>Volume MA</th>\n      <th>pctc</th>\n      <th>mark</th>\n    </tr>\n  </thead>\n  <tbody>\n    <tr>\n      <th>0</th>\n      <td>2019-05-01 13:30:00+00:00</td>\n      <td>182.890</td>\n      <td>184.50</td>\n      <td>181.71</td>\n      <td>182.08</td>\n      <td>87009.0</td>\n      <td>58317.80</td>\n      <td>0.000000</td>\n      <td>4</td>\n    </tr>\n    <tr>\n      <th>1</th>\n      <td>2019-05-01 14:30:00+00:00</td>\n      <td>182.250</td>\n      <td>183.31</td>\n      <td>181.39</td>\n      <td>181.48</td>\n      <td>32466.0</td>\n      <td>54655.85</td>\n      <td>-0.003295</td>\n      <td>4</td>\n    </tr>\n    <tr>\n      <th>2</th>\n      <td>2019-05-01 15:30:00+00:00</td>\n      <td>181.280</td>\n      <td>183.50</td>\n      <td>181.06</td>\n      <td>183.02</td>\n      <td>41981.0</td>\n      <td>53202.35</td>\n      <td>0.008486</td>\n      <td>4</td>\n    </tr>\n    <tr>\n      <th>3</th>\n      <td>2019-05-01 16:30:00+00:00</td>\n      <td>182.940</td>\n      <td>183.11</td>\n      <td>182.10</td>\n      <td>182.86</td>\n      <td>24737.0</td>\n      <td>51067.20</td>\n      <td>-0.000874</td>\n      <td>4</td>\n    </tr>\n    <tr>\n      <th>4</th>\n      <td>2019-05-01 17:30:00+00:00</td>\n      <td>182.880</td>\n      <td>184.77</td>\n      <td>182.77</td>\n      <td>184.71</td>\n      <td>33681.0</td>\n      <td>49363.50</td>\n      <td>0.010117</td>\n      <td>4</td>\n    </tr>\n    <tr>\n      <th>...</th>\n      <td>...</td>\n      <td>...</td>\n      <td>...</td>\n      <td>...</td>\n      <td>...</td>\n      <td>...</td>\n      <td>...</td>\n      <td>...</td>\n      <td>...</td>\n    </tr>\n    <tr>\n      <th>3630</th>\n      <td>2021-05-24 15:30:00+00:00</td>\n      <td>625.290</td>\n      <td>626.64</td>\n      <td>623.82</td>\n      <td>625.50</td>\n      <td>11932.0</td>\n      <td>40323.50</td>\n      <td>0.001120</td>\n      <td>4</td>\n    </tr>\n    <tr>\n      <th>3631</th>\n      <td>2021-05-24 16:30:00+00:00</td>\n      <td>626.195</td>\n      <td>627.67</td>\n      <td>625.04</td>\n      <td>627.67</td>\n      <td>11776.0</td>\n      <td>40224.95</td>\n      <td>0.003469</td>\n      <td>4</td>\n    </tr>\n    <tr>\n      <th>3632</th>\n      <td>2021-05-24 17:30:00+00:00</td>\n      <td>627.620</td>\n      <td>629.64</td>\n      <td>627.42</td>\n      <td>628.35</td>\n      <td>20193.0</td>\n      <td>40390.30</td>\n      <td>0.001083</td>\n      <td>4</td>\n    </tr>\n    <tr>\n      <th>3633</th>\n      <td>2021-05-24 18:30:00+00:00</td>\n      <td>628.860</td>\n      <td>629.51</td>\n      <td>626.32</td>\n      <td>626.48</td>\n      <td>9739.0</td>\n      <td>39795.35</td>\n      <td>-0.002976</td>\n      <td>4</td>\n    </tr>\n    <tr>\n      <th>3634</th>\n      <td>2021-05-24 19:30:00+00:00</td>\n      <td>626.210</td>\n      <td>627.28</td>\n      <td>623.88</td>\n      <td>624.48</td>\n      <td>18210.0</td>\n      <td>36651.50</td>\n      <td>-0.003192</td>\n      <td>4</td>\n    </tr>\n  </tbody>\n</table>\n<p>3635 rows × 9 columns</p>\n</div>"
     },
     "execution_count": 19,
     "metadata": {},
     "output_type": "execute_result"
    }
   ],
   "source": [
    "df"
   ],
   "metadata": {
    "collapsed": false,
    "ExecuteTime": {
     "end_time": "2024-04-03T11:03:35.570289Z",
     "start_time": "2024-04-03T11:03:35.503193Z"
    }
   },
   "id": "cb040bee5ae84c9",
   "execution_count": 19
  },
  {
   "cell_type": "code",
   "outputs": [],
   "source": [
    "# Calculating time since starting time in seconds\n",
    "starting_time = df['time'].iloc[0]\n",
    "df['time_since_start'] = (df['time'] - starting_time)"
   ],
   "metadata": {
    "collapsed": false,
    "ExecuteTime": {
     "end_time": "2024-04-03T11:03:36.061678Z",
     "start_time": "2024-04-03T11:03:36.057945Z"
    }
   },
   "id": "2d6c81325fb93fa8",
   "execution_count": 20
  },
  {
   "cell_type": "code",
   "outputs": [
    {
     "data": {
      "text/plain": "                          time     open    high     low   close   Volume  \\\n0    2019-05-01 13:30:00+00:00  182.890  184.50  181.71  182.08  87009.0   \n1    2019-05-01 14:30:00+00:00  182.250  183.31  181.39  181.48  32466.0   \n2    2019-05-01 15:30:00+00:00  181.280  183.50  181.06  183.02  41981.0   \n3    2019-05-01 16:30:00+00:00  182.940  183.11  182.10  182.86  24737.0   \n4    2019-05-01 17:30:00+00:00  182.880  184.77  182.77  184.71  33681.0   \n...                        ...      ...     ...     ...     ...      ...   \n3630 2021-05-24 15:30:00+00:00  625.290  626.64  623.82  625.50  11932.0   \n3631 2021-05-24 16:30:00+00:00  626.195  627.67  625.04  627.67  11776.0   \n3632 2021-05-24 17:30:00+00:00  627.620  629.64  627.42  628.35  20193.0   \n3633 2021-05-24 18:30:00+00:00  628.860  629.51  626.32  626.48   9739.0   \n3634 2021-05-24 19:30:00+00:00  626.210  627.28  623.88  624.48  18210.0   \n\n      Volume MA      pctc  mark  time_since_start  \n0      58317.80  0.000000     4   0 days 00:00:00  \n1      54655.85 -0.003295     4   0 days 01:00:00  \n2      53202.35  0.008486     4   0 days 02:00:00  \n3      51067.20 -0.000874     4   0 days 03:00:00  \n4      49363.50  0.010117     4   0 days 04:00:00  \n...         ...       ...   ...               ...  \n3630   40323.50  0.001120     4 754 days 02:00:00  \n3631   40224.95  0.003469     4 754 days 03:00:00  \n3632   40390.30  0.001083     4 754 days 04:00:00  \n3633   39795.35 -0.002976     4 754 days 05:00:00  \n3634   36651.50 -0.003192     4 754 days 06:00:00  \n\n[3635 rows x 10 columns]",
      "text/html": "<div>\n<style scoped>\n    .dataframe tbody tr th:only-of-type {\n        vertical-align: middle;\n    }\n\n    .dataframe tbody tr th {\n        vertical-align: top;\n    }\n\n    .dataframe thead th {\n        text-align: right;\n    }\n</style>\n<table border=\"1\" class=\"dataframe\">\n  <thead>\n    <tr style=\"text-align: right;\">\n      <th></th>\n      <th>time</th>\n      <th>open</th>\n      <th>high</th>\n      <th>low</th>\n      <th>close</th>\n      <th>Volume</th>\n      <th>Volume MA</th>\n      <th>pctc</th>\n      <th>mark</th>\n      <th>time_since_start</th>\n    </tr>\n  </thead>\n  <tbody>\n    <tr>\n      <th>0</th>\n      <td>2019-05-01 13:30:00+00:00</td>\n      <td>182.890</td>\n      <td>184.50</td>\n      <td>181.71</td>\n      <td>182.08</td>\n      <td>87009.0</td>\n      <td>58317.80</td>\n      <td>0.000000</td>\n      <td>4</td>\n      <td>0 days 00:00:00</td>\n    </tr>\n    <tr>\n      <th>1</th>\n      <td>2019-05-01 14:30:00+00:00</td>\n      <td>182.250</td>\n      <td>183.31</td>\n      <td>181.39</td>\n      <td>181.48</td>\n      <td>32466.0</td>\n      <td>54655.85</td>\n      <td>-0.003295</td>\n      <td>4</td>\n      <td>0 days 01:00:00</td>\n    </tr>\n    <tr>\n      <th>2</th>\n      <td>2019-05-01 15:30:00+00:00</td>\n      <td>181.280</td>\n      <td>183.50</td>\n      <td>181.06</td>\n      <td>183.02</td>\n      <td>41981.0</td>\n      <td>53202.35</td>\n      <td>0.008486</td>\n      <td>4</td>\n      <td>0 days 02:00:00</td>\n    </tr>\n    <tr>\n      <th>3</th>\n      <td>2019-05-01 16:30:00+00:00</td>\n      <td>182.940</td>\n      <td>183.11</td>\n      <td>182.10</td>\n      <td>182.86</td>\n      <td>24737.0</td>\n      <td>51067.20</td>\n      <td>-0.000874</td>\n      <td>4</td>\n      <td>0 days 03:00:00</td>\n    </tr>\n    <tr>\n      <th>4</th>\n      <td>2019-05-01 17:30:00+00:00</td>\n      <td>182.880</td>\n      <td>184.77</td>\n      <td>182.77</td>\n      <td>184.71</td>\n      <td>33681.0</td>\n      <td>49363.50</td>\n      <td>0.010117</td>\n      <td>4</td>\n      <td>0 days 04:00:00</td>\n    </tr>\n    <tr>\n      <th>...</th>\n      <td>...</td>\n      <td>...</td>\n      <td>...</td>\n      <td>...</td>\n      <td>...</td>\n      <td>...</td>\n      <td>...</td>\n      <td>...</td>\n      <td>...</td>\n      <td>...</td>\n    </tr>\n    <tr>\n      <th>3630</th>\n      <td>2021-05-24 15:30:00+00:00</td>\n      <td>625.290</td>\n      <td>626.64</td>\n      <td>623.82</td>\n      <td>625.50</td>\n      <td>11932.0</td>\n      <td>40323.50</td>\n      <td>0.001120</td>\n      <td>4</td>\n      <td>754 days 02:00:00</td>\n    </tr>\n    <tr>\n      <th>3631</th>\n      <td>2021-05-24 16:30:00+00:00</td>\n      <td>626.195</td>\n      <td>627.67</td>\n      <td>625.04</td>\n      <td>627.67</td>\n      <td>11776.0</td>\n      <td>40224.95</td>\n      <td>0.003469</td>\n      <td>4</td>\n      <td>754 days 03:00:00</td>\n    </tr>\n    <tr>\n      <th>3632</th>\n      <td>2021-05-24 17:30:00+00:00</td>\n      <td>627.620</td>\n      <td>629.64</td>\n      <td>627.42</td>\n      <td>628.35</td>\n      <td>20193.0</td>\n      <td>40390.30</td>\n      <td>0.001083</td>\n      <td>4</td>\n      <td>754 days 04:00:00</td>\n    </tr>\n    <tr>\n      <th>3633</th>\n      <td>2021-05-24 18:30:00+00:00</td>\n      <td>628.860</td>\n      <td>629.51</td>\n      <td>626.32</td>\n      <td>626.48</td>\n      <td>9739.0</td>\n      <td>39795.35</td>\n      <td>-0.002976</td>\n      <td>4</td>\n      <td>754 days 05:00:00</td>\n    </tr>\n    <tr>\n      <th>3634</th>\n      <td>2021-05-24 19:30:00+00:00</td>\n      <td>626.210</td>\n      <td>627.28</td>\n      <td>623.88</td>\n      <td>624.48</td>\n      <td>18210.0</td>\n      <td>36651.50</td>\n      <td>-0.003192</td>\n      <td>4</td>\n      <td>754 days 06:00:00</td>\n    </tr>\n  </tbody>\n</table>\n<p>3635 rows × 10 columns</p>\n</div>"
     },
     "execution_count": 21,
     "metadata": {},
     "output_type": "execute_result"
    }
   ],
   "source": [
    "df"
   ],
   "metadata": {
    "collapsed": false,
    "ExecuteTime": {
     "end_time": "2024-04-03T11:03:36.966079Z",
     "start_time": "2024-04-03T11:03:36.940952Z"
    }
   },
   "id": "94a4192dc3b57615",
   "execution_count": 21
  },
  {
   "cell_type": "code",
   "outputs": [],
   "source": [
    "# Convert time_since_start column to timedelta datatype\n",
    "df['time_since_start'] = pd.to_timedelta(df['time_since_start'])\n",
    "\n",
    "# Convert timedelta to seconds\n",
    "df['time_since_start_seconds'] = df['time_since_start'].dt.total_seconds() / 60"
   ],
   "metadata": {
    "collapsed": false,
    "ExecuteTime": {
     "end_time": "2024-04-03T11:03:38.268970Z",
     "start_time": "2024-04-03T11:03:38.249380Z"
    }
   },
   "id": "cf3b991021aa63b6",
   "execution_count": 22
  },
  {
   "cell_type": "code",
   "outputs": [
    {
     "data": {
      "text/plain": "                          time     open    high     low   close   Volume  \\\n0    2019-05-01 13:30:00+00:00  182.890  184.50  181.71  182.08  87009.0   \n1    2019-05-01 14:30:00+00:00  182.250  183.31  181.39  181.48  32466.0   \n2    2019-05-01 15:30:00+00:00  181.280  183.50  181.06  183.02  41981.0   \n3    2019-05-01 16:30:00+00:00  182.940  183.11  182.10  182.86  24737.0   \n4    2019-05-01 17:30:00+00:00  182.880  184.77  182.77  184.71  33681.0   \n...                        ...      ...     ...     ...     ...      ...   \n3630 2021-05-24 15:30:00+00:00  625.290  626.64  623.82  625.50  11932.0   \n3631 2021-05-24 16:30:00+00:00  626.195  627.67  625.04  627.67  11776.0   \n3632 2021-05-24 17:30:00+00:00  627.620  629.64  627.42  628.35  20193.0   \n3633 2021-05-24 18:30:00+00:00  628.860  629.51  626.32  626.48   9739.0   \n3634 2021-05-24 19:30:00+00:00  626.210  627.28  623.88  624.48  18210.0   \n\n      Volume MA      pctc  mark  time_since_start  time_since_start_seconds  \n0      58317.80  0.000000     4   0 days 00:00:00                       0.0  \n1      54655.85 -0.003295     4   0 days 01:00:00                      60.0  \n2      53202.35  0.008486     4   0 days 02:00:00                     120.0  \n3      51067.20 -0.000874     4   0 days 03:00:00                     180.0  \n4      49363.50  0.010117     4   0 days 04:00:00                     240.0  \n...         ...       ...   ...               ...                       ...  \n3630   40323.50  0.001120     4 754 days 02:00:00                 1085880.0  \n3631   40224.95  0.003469     4 754 days 03:00:00                 1085940.0  \n3632   40390.30  0.001083     4 754 days 04:00:00                 1086000.0  \n3633   39795.35 -0.002976     4 754 days 05:00:00                 1086060.0  \n3634   36651.50 -0.003192     4 754 days 06:00:00                 1086120.0  \n\n[3635 rows x 11 columns]",
      "text/html": "<div>\n<style scoped>\n    .dataframe tbody tr th:only-of-type {\n        vertical-align: middle;\n    }\n\n    .dataframe tbody tr th {\n        vertical-align: top;\n    }\n\n    .dataframe thead th {\n        text-align: right;\n    }\n</style>\n<table border=\"1\" class=\"dataframe\">\n  <thead>\n    <tr style=\"text-align: right;\">\n      <th></th>\n      <th>time</th>\n      <th>open</th>\n      <th>high</th>\n      <th>low</th>\n      <th>close</th>\n      <th>Volume</th>\n      <th>Volume MA</th>\n      <th>pctc</th>\n      <th>mark</th>\n      <th>time_since_start</th>\n      <th>time_since_start_seconds</th>\n    </tr>\n  </thead>\n  <tbody>\n    <tr>\n      <th>0</th>\n      <td>2019-05-01 13:30:00+00:00</td>\n      <td>182.890</td>\n      <td>184.50</td>\n      <td>181.71</td>\n      <td>182.08</td>\n      <td>87009.0</td>\n      <td>58317.80</td>\n      <td>0.000000</td>\n      <td>4</td>\n      <td>0 days 00:00:00</td>\n      <td>0.0</td>\n    </tr>\n    <tr>\n      <th>1</th>\n      <td>2019-05-01 14:30:00+00:00</td>\n      <td>182.250</td>\n      <td>183.31</td>\n      <td>181.39</td>\n      <td>181.48</td>\n      <td>32466.0</td>\n      <td>54655.85</td>\n      <td>-0.003295</td>\n      <td>4</td>\n      <td>0 days 01:00:00</td>\n      <td>60.0</td>\n    </tr>\n    <tr>\n      <th>2</th>\n      <td>2019-05-01 15:30:00+00:00</td>\n      <td>181.280</td>\n      <td>183.50</td>\n      <td>181.06</td>\n      <td>183.02</td>\n      <td>41981.0</td>\n      <td>53202.35</td>\n      <td>0.008486</td>\n      <td>4</td>\n      <td>0 days 02:00:00</td>\n      <td>120.0</td>\n    </tr>\n    <tr>\n      <th>3</th>\n      <td>2019-05-01 16:30:00+00:00</td>\n      <td>182.940</td>\n      <td>183.11</td>\n      <td>182.10</td>\n      <td>182.86</td>\n      <td>24737.0</td>\n      <td>51067.20</td>\n      <td>-0.000874</td>\n      <td>4</td>\n      <td>0 days 03:00:00</td>\n      <td>180.0</td>\n    </tr>\n    <tr>\n      <th>4</th>\n      <td>2019-05-01 17:30:00+00:00</td>\n      <td>182.880</td>\n      <td>184.77</td>\n      <td>182.77</td>\n      <td>184.71</td>\n      <td>33681.0</td>\n      <td>49363.50</td>\n      <td>0.010117</td>\n      <td>4</td>\n      <td>0 days 04:00:00</td>\n      <td>240.0</td>\n    </tr>\n    <tr>\n      <th>...</th>\n      <td>...</td>\n      <td>...</td>\n      <td>...</td>\n      <td>...</td>\n      <td>...</td>\n      <td>...</td>\n      <td>...</td>\n      <td>...</td>\n      <td>...</td>\n      <td>...</td>\n      <td>...</td>\n    </tr>\n    <tr>\n      <th>3630</th>\n      <td>2021-05-24 15:30:00+00:00</td>\n      <td>625.290</td>\n      <td>626.64</td>\n      <td>623.82</td>\n      <td>625.50</td>\n      <td>11932.0</td>\n      <td>40323.50</td>\n      <td>0.001120</td>\n      <td>4</td>\n      <td>754 days 02:00:00</td>\n      <td>1085880.0</td>\n    </tr>\n    <tr>\n      <th>3631</th>\n      <td>2021-05-24 16:30:00+00:00</td>\n      <td>626.195</td>\n      <td>627.67</td>\n      <td>625.04</td>\n      <td>627.67</td>\n      <td>11776.0</td>\n      <td>40224.95</td>\n      <td>0.003469</td>\n      <td>4</td>\n      <td>754 days 03:00:00</td>\n      <td>1085940.0</td>\n    </tr>\n    <tr>\n      <th>3632</th>\n      <td>2021-05-24 17:30:00+00:00</td>\n      <td>627.620</td>\n      <td>629.64</td>\n      <td>627.42</td>\n      <td>628.35</td>\n      <td>20193.0</td>\n      <td>40390.30</td>\n      <td>0.001083</td>\n      <td>4</td>\n      <td>754 days 04:00:00</td>\n      <td>1086000.0</td>\n    </tr>\n    <tr>\n      <th>3633</th>\n      <td>2021-05-24 18:30:00+00:00</td>\n      <td>628.860</td>\n      <td>629.51</td>\n      <td>626.32</td>\n      <td>626.48</td>\n      <td>9739.0</td>\n      <td>39795.35</td>\n      <td>-0.002976</td>\n      <td>4</td>\n      <td>754 days 05:00:00</td>\n      <td>1086060.0</td>\n    </tr>\n    <tr>\n      <th>3634</th>\n      <td>2021-05-24 19:30:00+00:00</td>\n      <td>626.210</td>\n      <td>627.28</td>\n      <td>623.88</td>\n      <td>624.48</td>\n      <td>18210.0</td>\n      <td>36651.50</td>\n      <td>-0.003192</td>\n      <td>4</td>\n      <td>754 days 06:00:00</td>\n      <td>1086120.0</td>\n    </tr>\n  </tbody>\n</table>\n<p>3635 rows × 11 columns</p>\n</div>"
     },
     "execution_count": 23,
     "metadata": {},
     "output_type": "execute_result"
    }
   ],
   "source": [
    "df"
   ],
   "metadata": {
    "collapsed": false,
    "ExecuteTime": {
     "end_time": "2024-04-03T11:03:39.399715Z",
     "start_time": "2024-04-03T11:03:39.376547Z"
    }
   },
   "id": "d19fda2011ab040b",
   "execution_count": 23
  },
  {
   "cell_type": "code",
   "outputs": [
    {
     "data": {
      "text/plain": "                          time     open    high     low   close   Volume  \\\n0    2019-05-01 13:30:00+00:00  182.890  184.50  181.71  182.08  87009.0   \n1    2019-05-01 14:30:00+00:00  182.250  183.31  181.39  181.48  32466.0   \n2    2019-05-01 15:30:00+00:00  181.280  183.50  181.06  183.02  41981.0   \n3    2019-05-01 16:30:00+00:00  182.940  183.11  182.10  182.86  24737.0   \n4    2019-05-01 17:30:00+00:00  182.880  184.77  182.77  184.71  33681.0   \n...                        ...      ...     ...     ...     ...      ...   \n3630 2021-05-24 15:30:00+00:00  625.290  626.64  623.82  625.50  11932.0   \n3631 2021-05-24 16:30:00+00:00  626.195  627.67  625.04  627.67  11776.0   \n3632 2021-05-24 17:30:00+00:00  627.620  629.64  627.42  628.35  20193.0   \n3633 2021-05-24 18:30:00+00:00  628.860  629.51  626.32  626.48   9739.0   \n3634 2021-05-24 19:30:00+00:00  626.210  627.28  623.88  624.48  18210.0   \n\n      Volume MA      pctc  mark  time_since_start  time_since_start_seconds  \\\n0      58317.80  0.000000     4   0 days 00:00:00                       0.0   \n1      54655.85 -0.003295     4   0 days 01:00:00                      60.0   \n2      53202.35  0.008486     4   0 days 02:00:00                     120.0   \n3      51067.20 -0.000874     4   0 days 03:00:00                     180.0   \n4      49363.50  0.010117     4   0 days 04:00:00                     240.0   \n...         ...       ...   ...               ...                       ...   \n3630   40323.50  0.001120     4 754 days 02:00:00                 1085880.0   \n3631   40224.95  0.003469     4 754 days 03:00:00                 1085940.0   \n3632   40390.30  0.001083     4 754 days 04:00:00                 1086000.0   \n3633   39795.35 -0.002976     4 754 days 05:00:00                 1086060.0   \n3634   36651.50 -0.003192     4 754 days 06:00:00                 1086120.0   \n\n     time_since_last_event  \n0                        0  \n1          0 days 01:00:00  \n2          0 days 01:00:00  \n3          0 days 01:00:00  \n4          0 days 01:00:00  \n...                    ...  \n3630       0 days 01:00:00  \n3631       0 days 01:00:00  \n3632       0 days 01:00:00  \n3633       0 days 01:00:00  \n3634       0 days 01:00:00  \n\n[3635 rows x 12 columns]",
      "text/html": "<div>\n<style scoped>\n    .dataframe tbody tr th:only-of-type {\n        vertical-align: middle;\n    }\n\n    .dataframe tbody tr th {\n        vertical-align: top;\n    }\n\n    .dataframe thead th {\n        text-align: right;\n    }\n</style>\n<table border=\"1\" class=\"dataframe\">\n  <thead>\n    <tr style=\"text-align: right;\">\n      <th></th>\n      <th>time</th>\n      <th>open</th>\n      <th>high</th>\n      <th>low</th>\n      <th>close</th>\n      <th>Volume</th>\n      <th>Volume MA</th>\n      <th>pctc</th>\n      <th>mark</th>\n      <th>time_since_start</th>\n      <th>time_since_start_seconds</th>\n      <th>time_since_last_event</th>\n    </tr>\n  </thead>\n  <tbody>\n    <tr>\n      <th>0</th>\n      <td>2019-05-01 13:30:00+00:00</td>\n      <td>182.890</td>\n      <td>184.50</td>\n      <td>181.71</td>\n      <td>182.08</td>\n      <td>87009.0</td>\n      <td>58317.80</td>\n      <td>0.000000</td>\n      <td>4</td>\n      <td>0 days 00:00:00</td>\n      <td>0.0</td>\n      <td>0</td>\n    </tr>\n    <tr>\n      <th>1</th>\n      <td>2019-05-01 14:30:00+00:00</td>\n      <td>182.250</td>\n      <td>183.31</td>\n      <td>181.39</td>\n      <td>181.48</td>\n      <td>32466.0</td>\n      <td>54655.85</td>\n      <td>-0.003295</td>\n      <td>4</td>\n      <td>0 days 01:00:00</td>\n      <td>60.0</td>\n      <td>0 days 01:00:00</td>\n    </tr>\n    <tr>\n      <th>2</th>\n      <td>2019-05-01 15:30:00+00:00</td>\n      <td>181.280</td>\n      <td>183.50</td>\n      <td>181.06</td>\n      <td>183.02</td>\n      <td>41981.0</td>\n      <td>53202.35</td>\n      <td>0.008486</td>\n      <td>4</td>\n      <td>0 days 02:00:00</td>\n      <td>120.0</td>\n      <td>0 days 01:00:00</td>\n    </tr>\n    <tr>\n      <th>3</th>\n      <td>2019-05-01 16:30:00+00:00</td>\n      <td>182.940</td>\n      <td>183.11</td>\n      <td>182.10</td>\n      <td>182.86</td>\n      <td>24737.0</td>\n      <td>51067.20</td>\n      <td>-0.000874</td>\n      <td>4</td>\n      <td>0 days 03:00:00</td>\n      <td>180.0</td>\n      <td>0 days 01:00:00</td>\n    </tr>\n    <tr>\n      <th>4</th>\n      <td>2019-05-01 17:30:00+00:00</td>\n      <td>182.880</td>\n      <td>184.77</td>\n      <td>182.77</td>\n      <td>184.71</td>\n      <td>33681.0</td>\n      <td>49363.50</td>\n      <td>0.010117</td>\n      <td>4</td>\n      <td>0 days 04:00:00</td>\n      <td>240.0</td>\n      <td>0 days 01:00:00</td>\n    </tr>\n    <tr>\n      <th>...</th>\n      <td>...</td>\n      <td>...</td>\n      <td>...</td>\n      <td>...</td>\n      <td>...</td>\n      <td>...</td>\n      <td>...</td>\n      <td>...</td>\n      <td>...</td>\n      <td>...</td>\n      <td>...</td>\n      <td>...</td>\n    </tr>\n    <tr>\n      <th>3630</th>\n      <td>2021-05-24 15:30:00+00:00</td>\n      <td>625.290</td>\n      <td>626.64</td>\n      <td>623.82</td>\n      <td>625.50</td>\n      <td>11932.0</td>\n      <td>40323.50</td>\n      <td>0.001120</td>\n      <td>4</td>\n      <td>754 days 02:00:00</td>\n      <td>1085880.0</td>\n      <td>0 days 01:00:00</td>\n    </tr>\n    <tr>\n      <th>3631</th>\n      <td>2021-05-24 16:30:00+00:00</td>\n      <td>626.195</td>\n      <td>627.67</td>\n      <td>625.04</td>\n      <td>627.67</td>\n      <td>11776.0</td>\n      <td>40224.95</td>\n      <td>0.003469</td>\n      <td>4</td>\n      <td>754 days 03:00:00</td>\n      <td>1085940.0</td>\n      <td>0 days 01:00:00</td>\n    </tr>\n    <tr>\n      <th>3632</th>\n      <td>2021-05-24 17:30:00+00:00</td>\n      <td>627.620</td>\n      <td>629.64</td>\n      <td>627.42</td>\n      <td>628.35</td>\n      <td>20193.0</td>\n      <td>40390.30</td>\n      <td>0.001083</td>\n      <td>4</td>\n      <td>754 days 04:00:00</td>\n      <td>1086000.0</td>\n      <td>0 days 01:00:00</td>\n    </tr>\n    <tr>\n      <th>3633</th>\n      <td>2021-05-24 18:30:00+00:00</td>\n      <td>628.860</td>\n      <td>629.51</td>\n      <td>626.32</td>\n      <td>626.48</td>\n      <td>9739.0</td>\n      <td>39795.35</td>\n      <td>-0.002976</td>\n      <td>4</td>\n      <td>754 days 05:00:00</td>\n      <td>1086060.0</td>\n      <td>0 days 01:00:00</td>\n    </tr>\n    <tr>\n      <th>3634</th>\n      <td>2021-05-24 19:30:00+00:00</td>\n      <td>626.210</td>\n      <td>627.28</td>\n      <td>623.88</td>\n      <td>624.48</td>\n      <td>18210.0</td>\n      <td>36651.50</td>\n      <td>-0.003192</td>\n      <td>4</td>\n      <td>754 days 06:00:00</td>\n      <td>1086120.0</td>\n      <td>0 days 01:00:00</td>\n    </tr>\n  </tbody>\n</table>\n<p>3635 rows × 12 columns</p>\n</div>"
     },
     "execution_count": 24,
     "metadata": {},
     "output_type": "execute_result"
    }
   ],
   "source": [
    "df['time_since_last_event'] = df.groupby('mark')['time_since_start'].diff().fillna(0)\n",
    "df"
   ],
   "metadata": {
    "collapsed": false,
    "ExecuteTime": {
     "end_time": "2024-04-03T11:03:40.605830Z",
     "start_time": "2024-04-03T11:03:40.554129Z"
    }
   },
   "id": "9032d0bf98fde68",
   "execution_count": 24
  },
  {
   "cell_type": "code",
   "outputs": [
    {
     "data": {
      "text/plain": "                          time     open    high     low   close   Volume  \\\n0    2019-05-01 13:30:00+00:00  182.890  184.50  181.71  182.08  87009.0   \n1    2019-05-01 14:30:00+00:00  182.250  183.31  181.39  181.48  32466.0   \n2    2019-05-01 15:30:00+00:00  181.280  183.50  181.06  183.02  41981.0   \n3    2019-05-01 16:30:00+00:00  182.940  183.11  182.10  182.86  24737.0   \n4    2019-05-01 17:30:00+00:00  182.880  184.77  182.77  184.71  33681.0   \n...                        ...      ...     ...     ...     ...      ...   \n3630 2021-05-24 15:30:00+00:00  625.290  626.64  623.82  625.50  11932.0   \n3631 2021-05-24 16:30:00+00:00  626.195  627.67  625.04  627.67  11776.0   \n3632 2021-05-24 17:30:00+00:00  627.620  629.64  627.42  628.35  20193.0   \n3633 2021-05-24 18:30:00+00:00  628.860  629.51  626.32  626.48   9739.0   \n3634 2021-05-24 19:30:00+00:00  626.210  627.28  623.88  624.48  18210.0   \n\n      Volume MA      pctc  mark  time_since_start  time_since_start_seconds  \\\n0      58317.80  0.000000     4   0 days 00:00:00                       0.0   \n1      54655.85 -0.003295     4   0 days 01:00:00                      60.0   \n2      53202.35  0.008486     4   0 days 02:00:00                     120.0   \n3      51067.20 -0.000874     4   0 days 03:00:00                     180.0   \n4      49363.50  0.010117     4   0 days 04:00:00                     240.0   \n...         ...       ...   ...               ...                       ...   \n3630   40323.50  0.001120     4 754 days 02:00:00                 1085880.0   \n3631   40224.95  0.003469     4 754 days 03:00:00                 1085940.0   \n3632   40390.30  0.001083     4 754 days 04:00:00                 1086000.0   \n3633   39795.35 -0.002976     4 754 days 05:00:00                 1086060.0   \n3634   36651.50 -0.003192     4 754 days 06:00:00                 1086120.0   \n\n     time_since_last_event  time_since_last_event_seconds  \n0          0 days 00:00:00                            0.0  \n1          0 days 01:00:00                           60.0  \n2          0 days 01:00:00                           60.0  \n3          0 days 01:00:00                           60.0  \n4          0 days 01:00:00                           60.0  \n...                    ...                            ...  \n3630       0 days 01:00:00                           60.0  \n3631       0 days 01:00:00                           60.0  \n3632       0 days 01:00:00                           60.0  \n3633       0 days 01:00:00                           60.0  \n3634       0 days 01:00:00                           60.0  \n\n[3635 rows x 13 columns]",
      "text/html": "<div>\n<style scoped>\n    .dataframe tbody tr th:only-of-type {\n        vertical-align: middle;\n    }\n\n    .dataframe tbody tr th {\n        vertical-align: top;\n    }\n\n    .dataframe thead th {\n        text-align: right;\n    }\n</style>\n<table border=\"1\" class=\"dataframe\">\n  <thead>\n    <tr style=\"text-align: right;\">\n      <th></th>\n      <th>time</th>\n      <th>open</th>\n      <th>high</th>\n      <th>low</th>\n      <th>close</th>\n      <th>Volume</th>\n      <th>Volume MA</th>\n      <th>pctc</th>\n      <th>mark</th>\n      <th>time_since_start</th>\n      <th>time_since_start_seconds</th>\n      <th>time_since_last_event</th>\n      <th>time_since_last_event_seconds</th>\n    </tr>\n  </thead>\n  <tbody>\n    <tr>\n      <th>0</th>\n      <td>2019-05-01 13:30:00+00:00</td>\n      <td>182.890</td>\n      <td>184.50</td>\n      <td>181.71</td>\n      <td>182.08</td>\n      <td>87009.0</td>\n      <td>58317.80</td>\n      <td>0.000000</td>\n      <td>4</td>\n      <td>0 days 00:00:00</td>\n      <td>0.0</td>\n      <td>0 days 00:00:00</td>\n      <td>0.0</td>\n    </tr>\n    <tr>\n      <th>1</th>\n      <td>2019-05-01 14:30:00+00:00</td>\n      <td>182.250</td>\n      <td>183.31</td>\n      <td>181.39</td>\n      <td>181.48</td>\n      <td>32466.0</td>\n      <td>54655.85</td>\n      <td>-0.003295</td>\n      <td>4</td>\n      <td>0 days 01:00:00</td>\n      <td>60.0</td>\n      <td>0 days 01:00:00</td>\n      <td>60.0</td>\n    </tr>\n    <tr>\n      <th>2</th>\n      <td>2019-05-01 15:30:00+00:00</td>\n      <td>181.280</td>\n      <td>183.50</td>\n      <td>181.06</td>\n      <td>183.02</td>\n      <td>41981.0</td>\n      <td>53202.35</td>\n      <td>0.008486</td>\n      <td>4</td>\n      <td>0 days 02:00:00</td>\n      <td>120.0</td>\n      <td>0 days 01:00:00</td>\n      <td>60.0</td>\n    </tr>\n    <tr>\n      <th>3</th>\n      <td>2019-05-01 16:30:00+00:00</td>\n      <td>182.940</td>\n      <td>183.11</td>\n      <td>182.10</td>\n      <td>182.86</td>\n      <td>24737.0</td>\n      <td>51067.20</td>\n      <td>-0.000874</td>\n      <td>4</td>\n      <td>0 days 03:00:00</td>\n      <td>180.0</td>\n      <td>0 days 01:00:00</td>\n      <td>60.0</td>\n    </tr>\n    <tr>\n      <th>4</th>\n      <td>2019-05-01 17:30:00+00:00</td>\n      <td>182.880</td>\n      <td>184.77</td>\n      <td>182.77</td>\n      <td>184.71</td>\n      <td>33681.0</td>\n      <td>49363.50</td>\n      <td>0.010117</td>\n      <td>4</td>\n      <td>0 days 04:00:00</td>\n      <td>240.0</td>\n      <td>0 days 01:00:00</td>\n      <td>60.0</td>\n    </tr>\n    <tr>\n      <th>...</th>\n      <td>...</td>\n      <td>...</td>\n      <td>...</td>\n      <td>...</td>\n      <td>...</td>\n      <td>...</td>\n      <td>...</td>\n      <td>...</td>\n      <td>...</td>\n      <td>...</td>\n      <td>...</td>\n      <td>...</td>\n      <td>...</td>\n    </tr>\n    <tr>\n      <th>3630</th>\n      <td>2021-05-24 15:30:00+00:00</td>\n      <td>625.290</td>\n      <td>626.64</td>\n      <td>623.82</td>\n      <td>625.50</td>\n      <td>11932.0</td>\n      <td>40323.50</td>\n      <td>0.001120</td>\n      <td>4</td>\n      <td>754 days 02:00:00</td>\n      <td>1085880.0</td>\n      <td>0 days 01:00:00</td>\n      <td>60.0</td>\n    </tr>\n    <tr>\n      <th>3631</th>\n      <td>2021-05-24 16:30:00+00:00</td>\n      <td>626.195</td>\n      <td>627.67</td>\n      <td>625.04</td>\n      <td>627.67</td>\n      <td>11776.0</td>\n      <td>40224.95</td>\n      <td>0.003469</td>\n      <td>4</td>\n      <td>754 days 03:00:00</td>\n      <td>1085940.0</td>\n      <td>0 days 01:00:00</td>\n      <td>60.0</td>\n    </tr>\n    <tr>\n      <th>3632</th>\n      <td>2021-05-24 17:30:00+00:00</td>\n      <td>627.620</td>\n      <td>629.64</td>\n      <td>627.42</td>\n      <td>628.35</td>\n      <td>20193.0</td>\n      <td>40390.30</td>\n      <td>0.001083</td>\n      <td>4</td>\n      <td>754 days 04:00:00</td>\n      <td>1086000.0</td>\n      <td>0 days 01:00:00</td>\n      <td>60.0</td>\n    </tr>\n    <tr>\n      <th>3633</th>\n      <td>2021-05-24 18:30:00+00:00</td>\n      <td>628.860</td>\n      <td>629.51</td>\n      <td>626.32</td>\n      <td>626.48</td>\n      <td>9739.0</td>\n      <td>39795.35</td>\n      <td>-0.002976</td>\n      <td>4</td>\n      <td>754 days 05:00:00</td>\n      <td>1086060.0</td>\n      <td>0 days 01:00:00</td>\n      <td>60.0</td>\n    </tr>\n    <tr>\n      <th>3634</th>\n      <td>2021-05-24 19:30:00+00:00</td>\n      <td>626.210</td>\n      <td>627.28</td>\n      <td>623.88</td>\n      <td>624.48</td>\n      <td>18210.0</td>\n      <td>36651.50</td>\n      <td>-0.003192</td>\n      <td>4</td>\n      <td>754 days 06:00:00</td>\n      <td>1086120.0</td>\n      <td>0 days 01:00:00</td>\n      <td>60.0</td>\n    </tr>\n  </tbody>\n</table>\n<p>3635 rows × 13 columns</p>\n</div>"
     },
     "execution_count": 25,
     "metadata": {},
     "output_type": "execute_result"
    }
   ],
   "source": [
    "df['time_since_last_event'] = pd.to_timedelta(df['time_since_last_event'])\n",
    "\n",
    "df['time_since_last_event_seconds'] = df['time_since_last_event'].dt.total_seconds() / 60\n",
    "df"
   ],
   "metadata": {
    "collapsed": false,
    "ExecuteTime": {
     "end_time": "2024-04-03T11:03:42.548666Z",
     "start_time": "2024-04-03T11:03:42.511231Z"
    }
   },
   "id": "460d08ed4ae385",
   "execution_count": 25
  },
  {
   "cell_type": "code",
   "outputs": [],
   "source": [
    "df.to_csv('NVDA_event.csv', index=False)"
   ],
   "metadata": {
    "collapsed": false,
    "ExecuteTime": {
     "end_time": "2024-04-03T11:03:47.407745Z",
     "start_time": "2024-04-03T11:03:47.306323Z"
    }
   },
   "id": "e9d43a42ad9890d2",
   "execution_count": 26
  },
  {
   "cell_type": "code",
   "outputs": [],
   "source": [],
   "metadata": {
    "collapsed": false,
    "ExecuteTime": {
     "end_time": "2024-03-27T14:21:01.899521Z",
     "start_time": "2024-03-27T14:21:01.897244Z"
    }
   },
   "id": "1d56207d92eca210",
   "execution_count": 22
  }
 ],
 "metadata": {
  "kernelspec": {
   "display_name": "Python 3",
   "language": "python",
   "name": "python3"
  },
  "language_info": {
   "codemirror_mode": {
    "name": "ipython",
    "version": 2
   },
   "file_extension": ".py",
   "mimetype": "text/x-python",
   "name": "python",
   "nbconvert_exporter": "python",
   "pygments_lexer": "ipython2",
   "version": "2.7.6"
  }
 },
 "nbformat": 4,
 "nbformat_minor": 5
}
